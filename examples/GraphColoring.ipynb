{
 "cells": [
  {
   "cell_type": "code",
   "execution_count": 9,
   "id": "77d5a191",
   "metadata": {},
   "outputs": [
    {
     "name": "stdout",
     "output_type": "stream",
     "text": [
      "The autoreload extension is already loaded. To reload it, use:\n",
      "  %reload_ext autoreload\n"
     ]
    }
   ],
   "source": [
    "%load_ext autoreload\n",
    "import sys\n",
    "sys.path.append('../src')"
   ]
  },
  {
   "cell_type": "code",
   "execution_count": 10,
   "id": "eecc2bc7",
   "metadata": {},
   "outputs": [],
   "source": [
    "%autoreload 2\n",
    "from graph_coloring import *\n",
    "from dashboard_GC import *"
   ]
  },
  {
   "cell_type": "markdown",
   "id": "4d5a9df5",
   "metadata": {},
   "source": [
    "# RL Graph Coloring"
   ]
  },
  {
   "cell_type": "markdown",
   "id": "c48e3839",
   "metadata": {},
   "source": [
    "## The Graph Generation"
   ]
  },
  {
   "cell_type": "code",
   "execution_count": 11,
   "id": "932e9bbf",
   "metadata": {},
   "outputs": [],
   "source": [
    "gg = GraphGeneration()"
   ]
  },
  {
   "cell_type": "code",
   "execution_count": 12,
   "id": "0305ddf3",
   "metadata": {
    "scrolled": false
   },
   "outputs": [
    {
     "data": {
      "application/vnd.jupyter.widget-view+json": {
       "model_id": "ebc4be78692543fb9f8cbf7e55eb9d5b",
       "version_major": 2,
       "version_minor": 0
      },
      "text/plain": [
       "VBox(children=(HBox(children=(IntSlider(value=10, description='# Nodes', min=10), IntSlider(value=7, descripti…"
      ]
     },
     "metadata": {},
     "output_type": "display_data"
    }
   ],
   "source": [
    "gg.display()"
   ]
  },
  {
   "cell_type": "markdown",
   "id": "9b31fe16",
   "metadata": {},
   "source": [
    "## The Quotient Graph"
   ]
  },
  {
   "cell_type": "code",
   "execution_count": 5,
   "id": "9cd11dae",
   "metadata": {},
   "outputs": [
    {
     "name": "stderr",
     "output_type": "stream",
     "text": [
      "INFO:SpectralBound:Started count for SpectralBound\n",
      "INFO:SpectralBound:Stopped count for SpectralBound, time vas 0.0027201175689697266\n",
      "\n"
     ]
    }
   ],
   "source": [
    "cg = ComplementGraph(gg)"
   ]
  },
  {
   "cell_type": "code",
   "execution_count": 6,
   "id": "64795d01",
   "metadata": {
    "scrolled": false
   },
   "outputs": [
    {
     "data": {
      "application/vnd.jupyter.widget-view+json": {
       "model_id": "e7d9d02e6da1422db3e77bfc9fe57a57",
       "version_major": 2,
       "version_minor": 0
      },
      "text/plain": [
       "VBox(children=(HBox(children=(Dropdown(description='Select Node:', options=(0, 1, 2, 3, 4, 5, 6, 7, 8, 9), val…"
      ]
     },
     "metadata": {},
     "output_type": "display_data"
    },
    {
     "name": "stderr",
     "output_type": "stream",
     "text": [
      "INFO:SpectralBound:Started count for SpectralBound\n",
      "INFO:SpectralBound:Stopped count for SpectralBound, time vas 0.002050161361694336\n",
      "\n",
      "INFO:SpectralBound:Started count for SpectralBound\n",
      "INFO:SpectralBound:Stopped count for SpectralBound, time vas 0.002393007278442383\n",
      "\n"
     ]
    }
   ],
   "source": [
    "cg.display()"
   ]
  },
  {
   "cell_type": "markdown",
   "id": "6ded5290",
   "metadata": {},
   "source": [
    "## Rolout with Lower bounds"
   ]
  },
  {
   "cell_type": "code",
   "execution_count": 7,
   "id": "2e2ee0f7",
   "metadata": {},
   "outputs": [
    {
     "name": "stderr",
     "output_type": "stream",
     "text": [
      "INFO:GreedyColoring:Started count for GreedyColoring\n",
      "INFO:GreedyColoring:Stopped count for GreedyColoring, time vas 0.0011010169982910156\n",
      "\n"
     ]
    }
   ],
   "source": [
    "ro = RolloutGUI(cg)"
   ]
  },
  {
   "cell_type": "code",
   "execution_count": 8,
   "id": "47bbde37",
   "metadata": {
    "scrolled": false
   },
   "outputs": [
    {
     "data": {
      "application/vnd.jupyter.widget-view+json": {
       "model_id": "f3d3e8acd9a5495d9fb554783e27028c",
       "version_major": 2,
       "version_minor": 0
      },
      "text/plain": [
       "VBox(children=(HBox(children=(Dropdown(options=('Rollout LB', 'Random Rollout LB'), value='Rollout LB'), Dropd…"
      ]
     },
     "metadata": {},
     "output_type": "display_data"
    }
   ],
   "source": [
    "logging.getLogger('matplotlib.font_manager').disabled = True\n",
    "ro.display()"
   ]
  },
  {
   "cell_type": "code",
   "execution_count": null,
   "id": "d3e034a0",
   "metadata": {},
   "outputs": [],
   "source": []
  }
 ],
 "metadata": {
  "kernelspec": {
   "display_name": "RL38",
   "language": "python",
   "name": "rl38"
  },
  "language_info": {
   "codemirror_mode": {
    "name": "ipython",
    "version": 3
   },
   "file_extension": ".py",
   "mimetype": "text/x-python",
   "name": "python",
   "nbconvert_exporter": "python",
   "pygments_lexer": "ipython3",
   "version": "3.8.2"
  },
  "latex_envs": {
   "LaTeX_envs_menu_present": true,
   "autoclose": false,
   "autocomplete": true,
   "bibliofile": "biblio.bib",
   "cite_by": "apalike",
   "current_citInitial": 1,
   "eqLabelWithNumbers": true,
   "eqNumInitial": 1,
   "hotkeys": {
    "equation": "Ctrl-E",
    "itemize": "Ctrl-I"
   },
   "labels_anchors": false,
   "latex_user_defs": false,
   "report_style_numbering": false,
   "user_envs_cfg": false
  }
 },
 "nbformat": 4,
 "nbformat_minor": 5
}
